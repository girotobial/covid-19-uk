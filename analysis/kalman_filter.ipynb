{
 "nbformat": 4,
 "nbformat_minor": 2,
 "metadata": {
  "language_info": {
   "name": "python",
   "codemirror_mode": {
    "name": "ipython",
    "version": 3
   },
   "version": "3.7.4-final"
  },
  "orig_nbformat": 2,
  "file_extension": ".py",
  "mimetype": "text/x-python",
  "name": "python",
  "npconvert_exporter": "python",
  "pygments_lexer": "ipython3",
  "version": 3,
  "kernelspec": {
   "name": "python3",
   "display_name": "Python 3"
  }
 },
 "cells": [
  {
   "cell_type": "code",
   "execution_count": 20,
   "metadata": {},
   "outputs": [],
   "source": [
    "import numpy as np\n",
    "import pandas as pd\n",
    "import matplotlib.pyplot as plt\n",
    "\n",
    "plt.rcParams['figure.figsize']= (13, 8)"
   ]
  },
  {
   "cell_type": "code",
   "execution_count": 25,
   "metadata": {},
   "outputs": [],
   "source": [
    "data = pd.read_csv('../data/DailyConfirmedCasesWithFeatures.csv')\n",
    "growth_factor = data['GrowthFactor']\n",
    "date = data['DateVal']"
   ]
  },
  {
   "cell_type": "code",
   "execution_count": 37,
   "metadata": {},
   "outputs": [],
   "source": [
    "size = (len(growth_factor),)\n",
    "dim_x = 2\n",
    "Q = np.full((dim_x, dim_x), 1e-5)\n",
    "A = np.array(\n",
    "    [[1., 1.],\n",
    "    [0., 1.]]\n",
    ")\n",
    "C = np.array([1., 0.])\n",
    "\n",
    "P = np.eye(dim_x)"
   ]
  },
  {
   "cell_type": "code",
   "execution_count": 39,
   "metadata": {},
   "outputs": [],
   "source": [
    "def predict(x, P, A, Q):\n",
    "    x_predict = A @ x\n",
    "    P_predict = A @ P @ A.T + Q\n",
    "    return x_predict, P_predict\n",
    "\n",
    "\n",
    "def update(x, P, z, R, H):\n",
    "     "
   ]
  },
  {
   "cell_type": "code",
   "execution_count": null,
   "metadata": {},
   "outputs": [],
   "source": []
  }
 ]
}